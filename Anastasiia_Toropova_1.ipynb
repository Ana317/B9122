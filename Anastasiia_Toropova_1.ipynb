{
 "cells": [
  {
   "cell_type": "code",
   "execution_count": 281,
   "metadata": {
    "scrolled": true
   },
   "outputs": [
    {
     "data": {
      "text/html": [
       "<div>\n",
       "<style scoped>\n",
       "    .dataframe tbody tr th:only-of-type {\n",
       "        vertical-align: middle;\n",
       "    }\n",
       "\n",
       "    .dataframe tbody tr th {\n",
       "        vertical-align: top;\n",
       "    }\n",
       "\n",
       "    .dataframe thead th {\n",
       "        text-align: right;\n",
       "    }\n",
       "</style>\n",
       "<table border=\"1\" class=\"dataframe\">\n",
       "  <thead>\n",
       "    <tr style=\"text-align: right;\">\n",
       "      <th></th>\n",
       "      <th>tier</th>\n",
       "      <th>amount</th>\n",
       "      <th>apr</th>\n",
       "      <th>prime</th>\n",
       "      <th>accept</th>\n",
       "    </tr>\n",
       "  </thead>\n",
       "  <tbody>\n",
       "    <tr>\n",
       "      <th>0</th>\n",
       "      <td>2</td>\n",
       "      <td>21000.00</td>\n",
       "      <td>6.19</td>\n",
       "      <td>1.8388</td>\n",
       "      <td>0</td>\n",
       "    </tr>\n",
       "    <tr>\n",
       "      <th>1</th>\n",
       "      <td>4</td>\n",
       "      <td>18888.75</td>\n",
       "      <td>7.99</td>\n",
       "      <td>1.8388</td>\n",
       "      <td>1</td>\n",
       "    </tr>\n",
       "    <tr>\n",
       "      <th>2</th>\n",
       "      <td>1</td>\n",
       "      <td>35000.00</td>\n",
       "      <td>5.85</td>\n",
       "      <td>1.8388</td>\n",
       "      <td>0</td>\n",
       "    </tr>\n",
       "    <tr>\n",
       "      <th>3</th>\n",
       "      <td>2</td>\n",
       "      <td>16510.00</td>\n",
       "      <td>6.19</td>\n",
       "      <td>1.8388</td>\n",
       "      <td>1</td>\n",
       "    </tr>\n",
       "    <tr>\n",
       "      <th>4</th>\n",
       "      <td>1</td>\n",
       "      <td>27000.00</td>\n",
       "      <td>5.85</td>\n",
       "      <td>1.8388</td>\n",
       "      <td>0</td>\n",
       "    </tr>\n",
       "  </tbody>\n",
       "</table>\n",
       "</div>"
      ],
      "text/plain": [
       "   tier    amount   apr   prime  accept\n",
       "0     2  21000.00  6.19  1.8388       0\n",
       "1     4  18888.75  7.99  1.8388       1\n",
       "2     1  35000.00  5.85  1.8388       0\n",
       "3     2  16510.00  6.19  1.8388       1\n",
       "4     1  27000.00  5.85  1.8388       0"
      ]
     },
     "execution_count": 281,
     "metadata": {},
     "output_type": "execute_result"
    }
   ],
   "source": [
    "from sklearn import linear_model as lm\n",
    "import matplotlib\n",
    "import matplotlib.pyplot as plt\n",
    "\n",
    "import numpy as np\n",
    "import pandas as pd\n",
    "\n",
    "\n",
    "data2 = pd.read_csv(\"e_car_data.csv\", delimiter=',', usecols=(0, 4, 7, 9, 8))\n",
    "data2 = data2[['tier', 'amount', 'apr','prime','accept']]\n",
    "data2.head(5)\n"
   ]
  },
  {
   "cell_type": "code",
   "execution_count": 195,
   "metadata": {},
   "outputs": [],
   "source": [
    "data2 = np.array(data2)\n",
    "x = data2[:, :4]\n",
    "y = data2[:, 4]"
   ]
  },
  {
   "cell_type": "code",
   "execution_count": 196,
   "metadata": {},
   "outputs": [
    {
     "data": {
      "text/plain": [
       "LogisticRegression(C=1.0, class_weight=None, dual=False, fit_intercept=True,\n",
       "          intercept_scaling=1, max_iter=100, multi_class='ovr', n_jobs=1,\n",
       "          penalty='l2', random_state=None, solver='liblinear', tol=0.0001,\n",
       "          verbose=0, warm_start=False)"
      ]
     },
     "execution_count": 196,
     "metadata": {},
     "output_type": "execute_result"
    }
   ],
   "source": [
    "#Create an object of class LogisticRegression\n",
    "logistic=lm.LogisticRegression()\n",
    "\n",
    "#Use the fit member function to fit a logistic regression\n",
    "logistic.fit(x,y)"
   ]
  },
  {
   "cell_type": "code",
   "execution_count": 197,
   "metadata": {},
   "outputs": [
    {
     "name": "stdout",
     "output_type": "stream",
     "text": [
      "intercept =  [0.04303756]\n"
     ]
    }
   ],
   "source": [
    "print(\"intercept = \", logistic.intercept_)"
   ]
  },
  {
   "cell_type": "code",
   "execution_count": 198,
   "metadata": {},
   "outputs": [
    {
     "name": "stdout",
     "output_type": "stream",
     "text": [
      "coefficients =  [[ 3.99053530e-02 -5.29466457e-05  9.39824417e-02  5.01993799e-02]]\n"
     ]
    }
   ],
   "source": [
    "print(\"coefficients = \", logistic.coef_)"
   ]
  },
  {
   "cell_type": "code",
   "execution_count": 199,
   "metadata": {},
   "outputs": [
    {
     "name": "stdout",
     "output_type": "stream",
     "text": [
      "Error probability of logistic classifier(in-sample): 0.389\n",
      "RMSE of logistic prediction of probability is:  0.472\n"
     ]
    },
    {
     "data": {
      "image/png": "[encoded data removed]",
      "text/plain": [
       "<Figure size 720x360 with 1 Axes>"
      ]
     },
     "metadata": {
      "needs_background": "light"
     },
     "output_type": "display_data"
    }
   ],
   "source": [
    "#Output the intercept and coefficient found here\n",
    "ypred=logistic.predict_proba(x)\n",
    "\n",
    "#A logistic classifier thresholds the prediction probability at 0.5 by default\n",
    "print(\"Error probability of logistic classifier(in-sample):\", '%.3f'%(1-logistic.score(x,y)))\n",
    "print(\"RMSE of logistic prediction of probability is: \", '%.3f'%np.std(y-ypred[:,1]))\n",
    "\n",
    "#Plot the ground truth vs the predicted probability of acceptance using pyplot\n",
    "matplotlib.rcParams.update({'font.size': 25})\n",
    "plt.figure(figsize=(10,5))\n",
    "plt.scatter(ypred[:,1], y, marker = 'x', s = 120.)\n",
    "plt.xlim(0, 1)\n",
    "plt.ylim(-0.2, 1.2)\n",
    "plt.yticks([0,1])\n",
    "plt.xlabel('Predicted probability of acceptance')\n",
    "plt.ylabel('Accepted (1) or not (0)')\n",
    "plt.show()"
   ]
  },
  {
   "cell_type": "code",
   "execution_count": 261,
   "metadata": {},
   "outputs": [
    {
     "data": {
      "text/plain": [
       "array([[0.57809874, 0.42190126],\n",
       "       [0.48855466, 0.51144534],\n",
       "       [0.75548546, 0.24451454],\n",
       "       ...,\n",
       "       [0.41233382, 0.58766618],\n",
       "       [0.67687168, 0.32312832],\n",
       "       [0.76035998, 0.23964002]])"
      ]
     },
     "execution_count": 261,
     "metadata": {},
     "output_type": "execute_result"
    }
   ],
   "source": [
    "ypred"
   ]
  },
  {
   "cell_type": "code",
   "execution_count": 296,
   "metadata": {},
   "outputs": [],
   "source": [
    "ypred\n",
    "ypred1 = ypred[:,1]"
   ]
  },
  {
   "cell_type": "code",
   "execution_count": 365,
   "metadata": {
    "scrolled": true
   },
   "outputs": [
    {
     "data": {
      "text/plain": [
       "1018"
      ]
     },
     "execution_count": 365,
     "metadata": {},
     "output_type": "execute_result"
    }
   ],
   "source": [
    "bin1 = ypred1[ 0.2 > ypred1]\n",
    "len(bin1)"
   ]
  },
  {
   "cell_type": "code",
   "execution_count": 366,
   "metadata": {},
   "outputs": [
    {
     "data": {
      "text/plain": [
       "164.0"
      ]
     },
     "execution_count": 366,
     "metadata": {},
     "output_type": "execute_result"
    }
   ],
   "source": [
    "bin11 = y[0.2 > ypred1]\n",
    "sum(bin11)"
   ]
  },
  {
   "cell_type": "code",
   "execution_count": 367,
   "metadata": {},
   "outputs": [
    {
     "data": {
      "text/plain": [
       "9212"
      ]
     },
     "execution_count": 367,
     "metadata": {},
     "output_type": "execute_result"
    }
   ],
   "source": [
    "bin2 = ypred1[np.logical_and(0.2 <= ypred1, ypred1 < 0.4)]\n",
    "len(bin2)"
   ]
  },
  {
   "cell_type": "code",
   "execution_count": 368,
   "metadata": {},
   "outputs": [
    {
     "data": {
      "text/plain": [
       "2745.0"
      ]
     },
     "execution_count": 368,
     "metadata": {},
     "output_type": "execute_result"
    }
   ],
   "source": [
    "bin22 = y[np.logical_and(0.2 <= ypred1, ypred1 < 0.4)]\n",
    "sum(bin22)"
   ]
  },
  {
   "cell_type": "code",
   "execution_count": 369,
   "metadata": {},
   "outputs": [
    {
     "data": {
      "text/plain": [
       "9513"
      ]
     },
     "execution_count": 369,
     "metadata": {},
     "output_type": "execute_result"
    }
   ],
   "source": [
    "bin3 = ypred1[np.logical_and(0.4 <= ypred1, ypred1 < 0.6)]\n",
    "len(bin3)"
   ]
  },
  {
   "cell_type": "code",
   "execution_count": 370,
   "metadata": {},
   "outputs": [
    {
     "data": {
      "text/plain": [
       "5918.0"
      ]
     },
     "execution_count": 370,
     "metadata": {},
     "output_type": "execute_result"
    }
   ],
   "source": [
    "bin33 = y[np.logical_and(0.4 <= ypred1, ypred1 < 0.6)]\n",
    "sum(bin33)"
   ]
  },
  {
   "cell_type": "code",
   "execution_count": 371,
   "metadata": {},
   "outputs": [
    {
     "data": {
      "text/plain": [
       "1036"
      ]
     },
     "execution_count": 371,
     "metadata": {},
     "output_type": "execute_result"
    }
   ],
   "source": [
    "bin4 = ypred1[np.logical_and(0.6 <= ypred1, ypred1 < 0.8)]\n",
    "len(bin4)"
   ]
  },
  {
   "cell_type": "code",
   "execution_count": 314,
   "metadata": {},
   "outputs": [
    {
     "data": {
      "text/plain": [
       "536.0"
      ]
     },
     "execution_count": 314,
     "metadata": {},
     "output_type": "execute_result"
    }
   ],
   "source": [
    "bin44 = y[np.logical_and(0.6 <= ypred1, ypred1 < 0.8)]\n",
    "sum(bin44)"
   ]
  },
  {
   "cell_type": "code",
   "execution_count": 372,
   "metadata": {},
   "outputs": [
    {
     "data": {
      "text/plain": [
       "0"
      ]
     },
     "execution_count": 372,
     "metadata": {},
     "output_type": "execute_result"
    }
   ],
   "source": [
    "bin5 = ypred1[np.logical_and(0.8 <= ypred1, ypred1 < 1)]\n",
    "len(bin5)"
   ]
  },
  {
   "cell_type": "code",
   "execution_count": 373,
   "metadata": {},
   "outputs": [
    {
     "data": {
      "text/plain": [
       "0"
      ]
     },
     "execution_count": 373,
     "metadata": {},
     "output_type": "execute_result"
    }
   ],
   "source": [
    "bin55 = y[np.logical_and(0.8 <= ypred1, ypred1 < 1)]\n",
    "sum(bin55)"
   ]
  },
  {
   "cell_type": "code",
   "execution_count": 374,
   "metadata": {},
   "outputs": [
    {
     "data": {
      "text/plain": [
       "array([0.1611002 , 0.29798089, 0.62209608, 0.51737452, 0.        ])"
      ]
     },
     "execution_count": 374,
     "metadata": {},
     "output_type": "execute_result"
    }
   ],
   "source": [
    "percents = np.ones(5)\n",
    "percents[0] = sum(bin11)/len(bin1)\n",
    "percents[1] = sum(bin22)/len(bin2)\n",
    "percents[2] = sum(bin33)/len(bin3)\n",
    "percents[3] = sum(bin44)/len(bin4)\n",
    "percents[4] = 0\n",
    "percents"
   ]
  },
  {
   "cell_type": "code",
   "execution_count": 403,
   "metadata": {},
   "outputs": [
    {
     "data": {
      "image/png": "[encoded data removed]",
      "text/plain": [
       "<Figure size 432x288 with 1 Axes>"
      ]
     },
     "metadata": {},
     "output_type": "display_data"
    }
   ],
   "source": [
    "x1 = ('0','0.2','0.4','0.6','0.8')\n",
    "y1 = percents\n",
    "x2 = np.arange(len(x1)) \n",
    "plt.bar(x2, y1, width = 1, align='edge', alpha=0.5, color='blue', edgecolor='black')\n",
    "plt.xticks(x2, x1)\n",
    "plt.xlabel('Predicted probability of acceptance')\n",
    "plt.ylabel('Fraction of accepted')\n",
    " \n",
    "plt.show()"
   ]
  },
  {
   "cell_type": "code",
   "execution_count": 346,
   "metadata": {},
   "outputs": [
    {
     "data": {
      "text/plain": [
       "0.4369980648565954"
      ]
     },
     "execution_count": 346,
     "metadata": {},
     "output_type": "execute_result"
    }
   ],
   "source": [
    "cs1 = 1/(1 + 2.71828 ** -(0.04303756 + 3.99053530e-02*2 -5.29466457e-05*18000 + 9.39824417e-02*5 + 5.01993799e-02*2.13))\n",
    "cs1"
   ]
  },
  {
   "cell_type": "code",
   "execution_count": 345,
   "metadata": {},
   "outputs": [
    {
     "data": {
      "text/plain": [
       "0.29137536252413976"
      ]
     },
     "execution_count": 345,
     "metadata": {},
     "output_type": "execute_result"
    }
   ],
   "source": [
    "cs2 = 1/(1 + 2.71828 ** -(0.04303756 + 3.99053530e-02*2 -5.29466457e-05*30000 + 9.39824417e-02*5 + 5.01993799e-02*2.13))\n",
    "cs2"
   ]
  },
  {
   "cell_type": "code",
   "execution_count": 389,
   "metadata": {},
   "outputs": [
    {
     "data": {
      "text/plain": [
       "array([0.43699802])"
      ]
     },
     "execution_count": 389,
     "metadata": {},
     "output_type": "execute_result"
    }
   ],
   "source": [
    "#same but with the formula\n",
    "cs11=np.array([[2, 18000, 5, 2.13]])\n",
    "ypredcs11=logistic.predict_proba(cs11)[:,1]\n",
    "ypredcs11"
   ]
  },
  {
   "cell_type": "code",
   "execution_count": 390,
   "metadata": {},
   "outputs": [
    {
     "data": {
      "text/plain": [
       "array([0.29137524])"
      ]
     },
     "execution_count": 390,
     "metadata": {},
     "output_type": "execute_result"
    }
   ],
   "source": [
    "#same but with the formula\n",
    "cs22=np.array([[2, 30000, 5, 2.13]])\n",
    "ypredcs22=logistic.predict_proba(cs22)[:,1]\n",
    "ypredcs22\n"
   ]
  }
 ],
 "metadata": {
  "kernelspec": {
   "display_name": "Python 3",
   "language": "python",
   "name": "python3"
  },
  "language_info": {
   "codemirror_mode": {
    "name": "ipython",
    "version": 3
   },
   "file_extension": ".py",
   "mimetype": "text/x-python",
   "name": "python",
   "nbconvert_exporter": "python",
   "pygments_lexer": "ipython3",
   "version": "3.7.0"
  }
 },
 "nbformat": 4,
 "nbformat_minor": 2
}
